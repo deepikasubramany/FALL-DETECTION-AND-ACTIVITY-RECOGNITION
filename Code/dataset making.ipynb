{
 "cells": [
  {
   "cell_type": "code",
   "execution_count": 1,
   "id": "9f338fea",
   "metadata": {},
   "outputs": [],
   "source": [
    "import numpy as np \n",
    "import pandas as pd "
   ]
  },
  {
   "cell_type": "code",
   "execution_count": 23,
   "id": "b276c733",
   "metadata": {},
   "outputs": [
    {
     "data": {
      "text/html": [
       "<div>\n",
       "<style scoped>\n",
       "    .dataframe tbody tr th:only-of-type {\n",
       "        vertical-align: middle;\n",
       "    }\n",
       "\n",
       "    .dataframe tbody tr th {\n",
       "        vertical-align: top;\n",
       "    }\n",
       "\n",
       "    .dataframe thead th {\n",
       "        text-align: right;\n",
       "    }\n",
       "</style>\n",
       "<table border=\"1\" class=\"dataframe\">\n",
       "  <thead>\n",
       "    <tr style=\"text-align: right;\">\n",
       "      <th></th>\n",
       "      <th>TimeStamps</th>\n",
       "      <th>Subject</th>\n",
       "      <th>Activity</th>\n",
       "      <th>Trial</th>\n",
       "      <th>Tag</th>\n",
       "    </tr>\n",
       "  </thead>\n",
       "  <tbody>\n",
       "    <tr>\n",
       "      <th>0</th>\n",
       "      <td>2018-07-04T12:04:17.738369</td>\n",
       "      <td>1</td>\n",
       "      <td>1</td>\n",
       "      <td>1</td>\n",
       "      <td>7</td>\n",
       "    </tr>\n",
       "    <tr>\n",
       "      <th>1</th>\n",
       "      <td>2018-07-04T12:04:17.790509</td>\n",
       "      <td>1</td>\n",
       "      <td>1</td>\n",
       "      <td>1</td>\n",
       "      <td>7</td>\n",
       "    </tr>\n",
       "    <tr>\n",
       "      <th>2</th>\n",
       "      <td>2018-07-04T12:04:17.836632</td>\n",
       "      <td>1</td>\n",
       "      <td>1</td>\n",
       "      <td>1</td>\n",
       "      <td>7</td>\n",
       "    </tr>\n",
       "    <tr>\n",
       "      <th>3</th>\n",
       "      <td>2018-07-04T12:04:17.885262</td>\n",
       "      <td>1</td>\n",
       "      <td>1</td>\n",
       "      <td>1</td>\n",
       "      <td>7</td>\n",
       "    </tr>\n",
       "    <tr>\n",
       "      <th>4</th>\n",
       "      <td>2018-07-04T12:04:17.945423</td>\n",
       "      <td>1</td>\n",
       "      <td>1</td>\n",
       "      <td>1</td>\n",
       "      <td>7</td>\n",
       "    </tr>\n",
       "  </tbody>\n",
       "</table>\n",
       "</div>"
      ],
      "text/plain": [
       "                   TimeStamps  Subject  Activity  Trial  Tag\n",
       "0  2018-07-04T12:04:17.738369        1         1      1    7\n",
       "1  2018-07-04T12:04:17.790509        1         1      1    7\n",
       "2  2018-07-04T12:04:17.836632        1         1      1    7\n",
       "3  2018-07-04T12:04:17.885262        1         1      1    7\n",
       "4  2018-07-04T12:04:17.945423        1         1      1    7"
      ]
     },
     "execution_count": 23,
     "metadata": {},
     "output_type": "execute_result"
    }
   ],
   "source": [
    "dataset = pd.read_csv(\"dataset/CompleteDataSet.csv\")\n",
    "dataset.head()"
   ]
  },
  {
   "cell_type": "code",
   "execution_count": 24,
   "id": "0e39cf07",
   "metadata": {},
   "outputs": [
    {
     "data": {
      "text/plain": [
       "17932"
      ]
     },
     "execution_count": 24,
     "metadata": {},
     "output_type": "execute_result"
    }
   ],
   "source": [
    "dataset=dataset.loc[dataset['Subject']==1] \n",
    "len(dataset)"
   ]
  },
  {
   "cell_type": "code",
   "execution_count": 34,
   "id": "3b01d262",
   "metadata": {},
   "outputs": [],
   "source": [
    "def merging(subject,activity,trail,image):\n",
    "    maping=[]\n",
    "    for i in range(len(subject)):\n",
    "        maping.append(\"dataset/originaldataset/Subject\"+str(subject[i])+\"Activity\"+str(activity[i])+\"Trial\"+str(trail[i])+\"Camera1/\"+image[i])\n",
    "    return maping\n",
    "import cv2 \n",
    "import os \n",
    "import os.path\n",
    "\n",
    "def Imagesave(Tag,data,targetdirectory):\n",
    "    images=[]\n",
    "    tags=[]\n",
    "    for i,path in enumerate(data):\n",
    "        path=path.replace(\":\",\"_\")\n",
    "        file_exists = os.path.exists(path)\n",
    "        if(file_exists and i%10==0):\n",
    "            img = cv2.imread(path) \n",
    "            filename = targetdirectory+str(i)+'.png'\n",
    "            images.append(filename)\n",
    "            tags.append(Tag[i])\n",
    "            cv2.imwrite(filename, img) \n",
    "    return images,tags"
   ]
  },
  {
   "cell_type": "code",
   "execution_count": 35,
   "id": "ad359c71",
   "metadata": {},
   "outputs": [
    {
     "data": {
      "text/html": [
       "<div>\n",
       "<style scoped>\n",
       "    .dataframe tbody tr th:only-of-type {\n",
       "        vertical-align: middle;\n",
       "    }\n",
       "\n",
       "    .dataframe tbody tr th {\n",
       "        vertical-align: top;\n",
       "    }\n",
       "\n",
       "    .dataframe thead th {\n",
       "        text-align: right;\n",
       "    }\n",
       "</style>\n",
       "<table border=\"1\" class=\"dataframe\">\n",
       "  <thead>\n",
       "    <tr style=\"text-align: right;\">\n",
       "      <th></th>\n",
       "      <th>Image</th>\n",
       "      <th>Target</th>\n",
       "    </tr>\n",
       "  </thead>\n",
       "  <tbody>\n",
       "    <tr>\n",
       "      <th>0</th>\n",
       "      <td>finaldataset/0.png</td>\n",
       "      <td>7</td>\n",
       "    </tr>\n",
       "    <tr>\n",
       "      <th>1</th>\n",
       "      <td>finaldataset/10.png</td>\n",
       "      <td>7</td>\n",
       "    </tr>\n",
       "    <tr>\n",
       "      <th>2</th>\n",
       "      <td>finaldataset/20.png</td>\n",
       "      <td>7</td>\n",
       "    </tr>\n",
       "    <tr>\n",
       "      <th>3</th>\n",
       "      <td>finaldataset/30.png</td>\n",
       "      <td>7</td>\n",
       "    </tr>\n",
       "    <tr>\n",
       "      <th>4</th>\n",
       "      <td>finaldataset/40.png</td>\n",
       "      <td>7</td>\n",
       "    </tr>\n",
       "    <tr>\n",
       "      <th>...</th>\n",
       "      <td>...</td>\n",
       "      <td>...</td>\n",
       "    </tr>\n",
       "    <tr>\n",
       "      <th>1459</th>\n",
       "      <td>finaldataset/17890.png</td>\n",
       "      <td>11</td>\n",
       "    </tr>\n",
       "    <tr>\n",
       "      <th>1460</th>\n",
       "      <td>finaldataset/17900.png</td>\n",
       "      <td>11</td>\n",
       "    </tr>\n",
       "    <tr>\n",
       "      <th>1461</th>\n",
       "      <td>finaldataset/17910.png</td>\n",
       "      <td>11</td>\n",
       "    </tr>\n",
       "    <tr>\n",
       "      <th>1462</th>\n",
       "      <td>finaldataset/17920.png</td>\n",
       "      <td>11</td>\n",
       "    </tr>\n",
       "    <tr>\n",
       "      <th>1463</th>\n",
       "      <td>finaldataset/17930.png</td>\n",
       "      <td>11</td>\n",
       "    </tr>\n",
       "  </tbody>\n",
       "</table>\n",
       "<p>1464 rows × 2 columns</p>\n",
       "</div>"
      ],
      "text/plain": [
       "                       Image  Target\n",
       "0         finaldataset/0.png       7\n",
       "1        finaldataset/10.png       7\n",
       "2        finaldataset/20.png       7\n",
       "3        finaldataset/30.png       7\n",
       "4        finaldataset/40.png       7\n",
       "...                      ...     ...\n",
       "1459  finaldataset/17890.png      11\n",
       "1460  finaldataset/17900.png      11\n",
       "1461  finaldataset/17910.png      11\n",
       "1462  finaldataset/17920.png      11\n",
       "1463  finaldataset/17930.png      11\n",
       "\n",
       "[1464 rows x 2 columns]"
      ]
     },
     "execution_count": 35,
     "metadata": {},
     "output_type": "execute_result"
    }
   ],
   "source": [
    "FeatureExtract=pd.DataFrame()\n",
    "image,tag=Imagesave(dataset[\"Tag\"].values,merging(dataset[\"Subject\"],dataset[\"Activity\"],dataset[\"Trial\"],dataset[\"TimeStamps\"].values+\".png\"),\"finaldataset/\")\n",
    "FeatureExtract[\"Image\"]=image\n",
    "FeatureExtract[\"Target\"]=tag\n",
    "FeatureExtract"
   ]
  },
  {
   "cell_type": "code",
   "execution_count": 36,
   "id": "e0b1a0d4",
   "metadata": {},
   "outputs": [],
   "source": [
    "FeatureExtract.to_csv('finaldataset.csv')"
   ]
  }
 ],
 "metadata": {
  "kernelspec": {
   "display_name": "Python 3 (ipykernel)",
   "language": "python",
   "name": "python3"
  },
  "language_info": {
   "codemirror_mode": {
    "name": "ipython",
    "version": 3
   },
   "file_extension": ".py",
   "mimetype": "text/x-python",
   "name": "python",
   "nbconvert_exporter": "python",
   "pygments_lexer": "ipython3",
   "version": "3.9.7"
  }
 },
 "nbformat": 4,
 "nbformat_minor": 5
}
