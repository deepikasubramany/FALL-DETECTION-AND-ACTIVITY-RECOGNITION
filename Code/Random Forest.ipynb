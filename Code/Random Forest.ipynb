{
 "cells": [
  {
   "cell_type": "code",
   "execution_count": 1,
   "metadata": {},
   "outputs": [],
   "source": [
    "import pandas as pd\n",
    "import numpy as np\n",
    "import matplotlib.pyplot as plt\n",
    "from sklearn.metrics import confusion_matrix,classification_report\n",
    "from sklearn.model_selection import cross_val_score, GridSearchCV\n",
    "from sklearn.ensemble import RandomForestClassifier\n",
    "from sklearn.model_selection import train_test_split\n",
    "from sklearn.metrics import accuracy_score"
   ]
  },
  {
   "cell_type": "code",
   "execution_count": 2,
   "metadata": {},
   "outputs": [
    {
     "data": {
      "text/html": [
       "<div>\n",
       "<style scoped>\n",
       "    .dataframe tbody tr th:only-of-type {\n",
       "        vertical-align: middle;\n",
       "    }\n",
       "\n",
       "    .dataframe tbody tr th {\n",
       "        vertical-align: top;\n",
       "    }\n",
       "\n",
       "    .dataframe thead th {\n",
       "        text-align: right;\n",
       "    }\n",
       "</style>\n",
       "<table border=\"1\" class=\"dataframe\">\n",
       "  <thead>\n",
       "    <tr style=\"text-align: right;\">\n",
       "      <th></th>\n",
       "      <th>Unnamed: 0</th>\n",
       "      <th>0</th>\n",
       "      <th>1</th>\n",
       "      <th>2</th>\n",
       "      <th>3</th>\n",
       "      <th>4</th>\n",
       "      <th>5</th>\n",
       "      <th>6</th>\n",
       "      <th>7</th>\n",
       "      <th>8</th>\n",
       "      <th>...</th>\n",
       "      <th>71</th>\n",
       "      <th>72</th>\n",
       "      <th>73</th>\n",
       "      <th>74</th>\n",
       "      <th>75</th>\n",
       "      <th>76</th>\n",
       "      <th>77</th>\n",
       "      <th>78</th>\n",
       "      <th>79</th>\n",
       "      <th>80</th>\n",
       "    </tr>\n",
       "  </thead>\n",
       "  <tbody>\n",
       "    <tr>\n",
       "      <th>0</th>\n",
       "      <td>0</td>\n",
       "      <td>0.png</td>\n",
       "      <td>416.027405</td>\n",
       "      <td>212.334763</td>\n",
       "      <td>0.911107</td>\n",
       "      <td>424.742737</td>\n",
       "      <td>206.524521</td>\n",
       "      <td>0.949083</td>\n",
       "      <td>418.932495</td>\n",
       "      <td>203.619400</td>\n",
       "      <td>...</td>\n",
       "      <td>467.985413</td>\n",
       "      <td>0.891612</td>\n",
       "      <td>468.319580</td>\n",
       "      <td>479.605896</td>\n",
       "      <td>0.785333</td>\n",
       "      <td>453.793945</td>\n",
       "      <td>470.890503</td>\n",
       "      <td>0.890539</td>\n",
       "      <td>3.076171</td>\n",
       "      <td>7</td>\n",
       "    </tr>\n",
       "    <tr>\n",
       "      <th>1</th>\n",
       "      <td>1</td>\n",
       "      <td>10.png</td>\n",
       "      <td>411.591034</td>\n",
       "      <td>213.453430</td>\n",
       "      <td>0.948837</td>\n",
       "      <td>417.534088</td>\n",
       "      <td>204.538834</td>\n",
       "      <td>0.911991</td>\n",
       "      <td>414.562561</td>\n",
       "      <td>204.538834</td>\n",
       "      <td>...</td>\n",
       "      <td>469.005341</td>\n",
       "      <td>0.848405</td>\n",
       "      <td>471.021698</td>\n",
       "      <td>477.919952</td>\n",
       "      <td>0.764094</td>\n",
       "      <td>453.192505</td>\n",
       "      <td>471.976868</td>\n",
       "      <td>0.892658</td>\n",
       "      <td>3.019633</td>\n",
       "      <td>7</td>\n",
       "    </tr>\n",
       "    <tr>\n",
       "      <th>2</th>\n",
       "      <td>2</td>\n",
       "      <td>20.png</td>\n",
       "      <td>409.421112</td>\n",
       "      <td>215.449310</td>\n",
       "      <td>0.951167</td>\n",
       "      <td>415.245483</td>\n",
       "      <td>206.712738</td>\n",
       "      <td>0.933428</td>\n",
       "      <td>409.421112</td>\n",
       "      <td>206.712738</td>\n",
       "      <td>...</td>\n",
       "      <td>465.897614</td>\n",
       "      <td>0.894365</td>\n",
       "      <td>467.664886</td>\n",
       "      <td>480.458557</td>\n",
       "      <td>0.790847</td>\n",
       "      <td>453.103943</td>\n",
       "      <td>471.721985</td>\n",
       "      <td>0.850276</td>\n",
       "      <td>3.105330</td>\n",
       "      <td>7</td>\n",
       "    </tr>\n",
       "    <tr>\n",
       "      <th>3</th>\n",
       "      <td>3</td>\n",
       "      <td>30.png</td>\n",
       "      <td>407.601929</td>\n",
       "      <td>215.433823</td>\n",
       "      <td>0.964128</td>\n",
       "      <td>416.332794</td>\n",
       "      <td>206.702942</td>\n",
       "      <td>0.942259</td>\n",
       "      <td>407.601929</td>\n",
       "      <td>206.702942</td>\n",
       "      <td>...</td>\n",
       "      <td>468.629578</td>\n",
       "      <td>0.867242</td>\n",
       "      <td>468.718140</td>\n",
       "      <td>480.270782</td>\n",
       "      <td>0.774923</td>\n",
       "      <td>451.256348</td>\n",
       "      <td>471.539886</td>\n",
       "      <td>0.880984</td>\n",
       "      <td>3.042257</td>\n",
       "      <td>7</td>\n",
       "    </tr>\n",
       "    <tr>\n",
       "      <th>4</th>\n",
       "      <td>4</td>\n",
       "      <td>40.png</td>\n",
       "      <td>404.583527</td>\n",
       "      <td>216.670563</td>\n",
       "      <td>0.935175</td>\n",
       "      <td>410.359406</td>\n",
       "      <td>208.006729</td>\n",
       "      <td>0.931781</td>\n",
       "      <td>404.583527</td>\n",
       "      <td>208.006729</td>\n",
       "      <td>...</td>\n",
       "      <td>467.921509</td>\n",
       "      <td>0.897768</td>\n",
       "      <td>471.006195</td>\n",
       "      <td>479.473267</td>\n",
       "      <td>0.732927</td>\n",
       "      <td>450.790588</td>\n",
       "      <td>470.809448</td>\n",
       "      <td>0.899404</td>\n",
       "      <td>3.013678</td>\n",
       "      <td>7</td>\n",
       "    </tr>\n",
       "  </tbody>\n",
       "</table>\n",
       "<p>5 rows × 82 columns</p>\n",
       "</div>"
      ],
      "text/plain": [
       "   Unnamed: 0       0           1           2         3           4  \\\n",
       "0           0   0.png  416.027405  212.334763  0.911107  424.742737   \n",
       "1           1  10.png  411.591034  213.453430  0.948837  417.534088   \n",
       "2           2  20.png  409.421112  215.449310  0.951167  415.245483   \n",
       "3           3  30.png  407.601929  215.433823  0.964128  416.332794   \n",
       "4           4  40.png  404.583527  216.670563  0.935175  410.359406   \n",
       "\n",
       "            5         6           7           8  ...          71        72  \\\n",
       "0  206.524521  0.949083  418.932495  203.619400  ...  467.985413  0.891612   \n",
       "1  204.538834  0.911991  414.562561  204.538834  ...  469.005341  0.848405   \n",
       "2  206.712738  0.933428  409.421112  206.712738  ...  465.897614  0.894365   \n",
       "3  206.702942  0.942259  407.601929  206.702942  ...  468.629578  0.867242   \n",
       "4  208.006729  0.931781  404.583527  208.006729  ...  467.921509  0.897768   \n",
       "\n",
       "           73          74        75          76          77        78  \\\n",
       "0  468.319580  479.605896  0.785333  453.793945  470.890503  0.890539   \n",
       "1  471.021698  477.919952  0.764094  453.192505  471.976868  0.892658   \n",
       "2  467.664886  480.458557  0.790847  453.103943  471.721985  0.850276   \n",
       "3  468.718140  480.270782  0.774923  451.256348  471.539886  0.880984   \n",
       "4  471.006195  479.473267  0.732927  450.790588  470.809448  0.899404   \n",
       "\n",
       "         79  80  \n",
       "0  3.076171   7  \n",
       "1  3.019633   7  \n",
       "2  3.105330   7  \n",
       "3  3.042257   7  \n",
       "4  3.013678   7  \n",
       "\n",
       "[5 rows x 82 columns]"
      ]
     },
     "execution_count": 2,
     "metadata": {},
     "output_type": "execute_result"
    }
   ],
   "source": [
    "dataset = pd.read_csv(\"Hu_sk_dataset.csv\")\n",
    "dataset.head()"
   ]
  },
  {
   "cell_type": "code",
   "execution_count": 3,
   "metadata": {},
   "outputs": [],
   "source": [
    "dataset = dataset.drop([\"Unnamed: 0\"],axis = 1)"
   ]
  },
  {
   "cell_type": "code",
   "execution_count": 4,
   "metadata": {},
   "outputs": [
    {
     "data": {
      "text/plain": [
       "{0: 0.3846153846153847,\n",
       " 1: 0.6250000000000001,\n",
       " 2: 0.7142857142857143,\n",
       " 3: 1.0,\n",
       " 4: 0.7142857142857143,\n",
       " 5: 0.031446540880503145,\n",
       " 6: 0.10869565217391305,\n",
       " 7: 0.31250000000000006,\n",
       " 8: 0.5,\n",
       " 9: 0.3333333333333334,\n",
       " 10: 0.042735042735042736}"
      ]
     },
     "execution_count": 4,
     "metadata": {},
     "output_type": "execute_result"
    }
   ],
   "source": [
    "y= dataset['80']\n",
    "X= dataset.drop(['80','0'], axis=1)\n",
    "testing=dataset.copy()\n",
    "testing=testing.drop(['0'], axis=1)\n",
    "train, test = train_test_split(testing, test_size=0.2)\n",
    "temp_df = train.groupby(['80']).size().reset_index().rename(columns={0:'count'})\n",
    "total_count = np.sum(temp_df['count'].values)\n",
    "temp_df['class%'] = (temp_df['count'] / total_count) * 100\n",
    "lowest_pct = min(temp_df['class%'])\n",
    "temp_df['class_weight'] = lowest_pct / temp_df['class%']\n",
    "class_weight = temp_df[['80', 'class_weight']].to_dict()['class_weight']\n",
    "class_weight"
   ]
  },
  {
   "cell_type": "code",
   "execution_count": 5,
   "metadata": {},
   "outputs": [
    {
     "name": "stdout",
     "output_type": "stream",
     "text": [
      "Xtrain: (403, 79) \n",
      "Ytrain: (403,) \n",
      "Xtest: (101, 79)\n"
     ]
    },
    {
     "name": "stderr",
     "output_type": "stream",
     "text": [
      "C:\\Users\\91750\\AppData\\Local\\Temp/ipykernel_21920/941882327.py:1: DeprecationWarning: `np.float` is a deprecated alias for the builtin `float`. To silence this warning, use `float` by itself. Doing this will not modify any behavior and is safe. If you specifically wanted the numpy scalar type, use `np.float64` here.\n",
      "Deprecated in NumPy 1.20; for more details and guidance: https://numpy.org/devdocs/release/1.20.0-notes.html#deprecations\n",
      "  cat_cols_indices = np.where(X.dtypes != np.float)[0]\n"
     ]
    }
   ],
   "source": [
    "cat_cols_indices = np.where(X.dtypes != np.float)[0]\n",
    "Xtrain = train.loc[:, train.columns != '80' ].copy()\n",
    "Ytrain = train['80'].copy()-1\n",
    "Xtest = test.loc[:, train.columns != '80' ].copy()\n",
    "\n",
    "print(\"Xtrain: {} \\nYtrain: {} \\nXtest: {}\".format(Xtrain.shape, Ytrain.shape, Xtest.shape))"
   ]
  },
  {
   "cell_type": "code",
   "execution_count": 12,
   "metadata": {},
   "outputs": [
    {
     "data": {
      "text/plain": [
       "436     9\n",
       "187     5\n",
       "440     9\n",
       "264     5\n",
       "104     3\n",
       "       ..\n",
       "445     9\n",
       "473    10\n",
       "488    10\n",
       "474    10\n",
       "111    10\n",
       "Name: 80, Length: 403, dtype: int64"
      ]
     },
     "execution_count": 12,
     "metadata": {},
     "output_type": "execute_result"
    }
   ],
   "source": [
    "Ytrain"
   ]
  },
  {
   "cell_type": "code",
   "execution_count": 13,
   "metadata": {},
   "outputs": [],
   "source": [
    "clf = RandomForestClassifier() \n",
    " \n",
    "# Training the model on the training dataset\n",
    "# fit function is used to train the model using the training sets as parameters\n",
    "clf.fit(Xtrain, Ytrain.values)\n",
    " \n",
    "# performing predictions on the test dataset\n",
    "y_pred = clf.predict(Xtest)\n",
    " "
   ]
  },
  {
   "cell_type": "code",
   "execution_count": 14,
   "metadata": {},
   "outputs": [
    {
     "name": "stdout",
     "output_type": "stream",
     "text": [
      "Accuracy: 0.891089\n",
      "Precision: 0.829148\n",
      "Recall: 0.686887\n",
      "F1 score: 0.724798\n"
     ]
    },
    {
     "name": "stderr",
     "output_type": "stream",
     "text": [
      "C:\\Users\\91750\\anaconda3\\lib\\site-packages\\sklearn\\metrics\\_classification.py:1248: UndefinedMetricWarning: Precision is ill-defined and being set to 0.0 in labels with no predicted samples. Use `zero_division` parameter to control this behavior.\n",
      "  _warn_prf(average, modifier, msg_start, len(result))\n"
     ]
    }
   ],
   "source": [
    "target= test['80'].copy()-1\n",
    "y_test=target\n",
    "from sklearn.metrics import accuracy_score\n",
    "from sklearn.metrics import precision_score\n",
    "from sklearn.metrics import recall_score\n",
    "from sklearn.metrics import f1_score\n",
    "# accuracy: (tp + tn) / (p + n)\n",
    "Raccuracy = accuracy_score(y_test,y_pred)\n",
    "print('Accuracy: %f' % Raccuracy)\n",
    "# precision tp / (tp + fp)\n",
    "Rprecision = precision_score(y_test,y_pred,average='macro')\n",
    "print('Precision: %f' % Rprecision)\n",
    "# recall: tp / (tp + fn)\n",
    "Rrecall = recall_score(y_test,y_pred,average='macro')\n",
    "print('Recall: %f' % Rrecall)\n",
    "# f1: 2 tp / (2 tp + fp + fn)\n",
    "Rf1 = f1_score(y_test,y_pred,average='macro')\n",
    "print('F1 score: %f' % Rf1)"
   ]
  },
  {
   "cell_type": "code",
   "execution_count": 15,
   "metadata": {},
   "outputs": [
    {
     "data": {
      "image/png": "[encoded data removed]",
      "text/plain": [
       "<Figure size 360x360 with 1 Axes>"
      ]
     },
     "metadata": {
      "needs_background": "light"
     },
     "output_type": "display_data"
    }
   ],
   "source": [
    "import numpy as np\n",
    "import matplotlib.pyplot as plt\n",
    "catboost=0.93\n",
    "data = {'RandomForest':Raccuracy, 'Catboost':catboost}\n",
    "algorithm = list(data.keys())\n",
    "accuracy = list(data.values())\n",
    "  \n",
    "fig = plt.figure(figsize = (5, 5))\n",
    " \n",
    "# creating the bar plot\n",
    "plt.bar(algorithm, accuracy, color ='blue',\n",
    "        width = 0.2)\n",
    " \n",
    "plt.title(\"RandomForest Vs Catboost(Activity Recognition)\")\n",
    "plt.ylabel(\"Accuracy\")\n",
    "plt.xlabel(\"Algorithm\")\n",
    "plt.show()"
   ]
  },
  {
   "cell_type": "code",
   "execution_count": 16,
   "metadata": {},
   "outputs": [
    {
     "name": "stdout",
     "output_type": "stream",
     "text": [
      "Accuracy: 0.920792\n",
      "Precision: 0.916667\n",
      "Recall: 1.000000\n",
      "F1 score: 0.956522\n"
     ]
    }
   ],
   "source": [
    "#fall / Not Fall detection accuracy\n",
    "o_testdata=[]\n",
    "for i in target:\n",
    "  if(i<5):\n",
    "    o_testdata.append(0)\n",
    "  else:\n",
    "    o_testdata.append(1)\n",
    "o_preddata=[]  \n",
    "for i in y_pred:\n",
    "  if(i<5):\n",
    "    o_preddata.append(0)\n",
    "  else:\n",
    "    o_preddata.append(1)\n",
    "y_test,y_pred=o_testdata,o_preddata\n",
    "Rfaccuracy = accuracy_score(y_test,y_pred)\n",
    "print('Accuracy: %f' % Rfaccuracy)\n",
    "# precision tp / (tp + fp)\n",
    "Rprecision = precision_score(y_test,y_pred)\n",
    "print('Precision: %f' % Rprecision)\n",
    "# recall: tp / (tp + fn)\n",
    "Rrecall = recall_score(y_test,y_pred)\n",
    "print('Recall: %f' % Rrecall)\n",
    "# f1: 2 tp / (2 tp + fp + fn)\n",
    "Rf1 = f1_score(y_test,y_pred)\n",
    "print('F1 score: %f' % Rf1)"
   ]
  },
  {
   "cell_type": "code",
   "execution_count": 17,
   "metadata": {},
   "outputs": [
    {
     "data": {
      "image/png": "[encoded data removed]",
      "text/plain": [
       "<Figure size 360x360 with 1 Axes>"
      ]
     },
     "metadata": {
      "needs_background": "light"
     },
     "output_type": "display_data"
    }
   ],
   "source": [
    "import numpy as np\n",
    "import matplotlib.pyplot as plt\n",
    "catboost=0.96\n",
    "data = {'RandomForest':Rfaccuracy, 'Catboost':catboost}\n",
    "algorithm = list(data.keys())\n",
    "accuracy = list(data.values())\n",
    "  \n",
    "fig = plt.figure(figsize = (5, 5))\n",
    " \n",
    "# creating the bar plot\n",
    "plt.bar(algorithm, accuracy, color ='blue',\n",
    "        width = 0.2)\n",
    " \n",
    "plt.title(\"RandomForest Vs Catboost(Fall/Non Fall)\")\n",
    "plt.ylabel(\"Accuracy\")\n",
    "plt.xlabel(\"Algorithm\")\n",
    "plt.show()"
   ]
  }
 ],
 "metadata": {
  "kernelspec": {
   "display_name": "Python 3 (ipykernel)",
   "language": "python",
   "name": "python3"
  },
  "language_info": {
   "codemirror_mode": {
    "name": "ipython",
    "version": 3
   },
   "file_extension": ".py",
   "mimetype": "text/x-python",
   "name": "python",
   "nbconvert_exporter": "python",
   "pygments_lexer": "ipython3",
   "version": "3.9.7"
  }
 },
 "nbformat": 4,
 "nbformat_minor": 4
}
